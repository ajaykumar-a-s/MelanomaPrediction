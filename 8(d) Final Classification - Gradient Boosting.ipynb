{
 "cells": [
  {
   "cell_type": "markdown",
   "id": "ae5be26a",
   "metadata": {},
   "source": [
    "# Final classification with Gradient Boosting\n",
    "### This file contains the training and testing of Gradient Boosting with and without fusion"
   ]
  },
  {
   "cell_type": "markdown",
   "id": "5b726d5b",
   "metadata": {},
   "source": [
    "## Without fusion"
   ]
  },
  {
   "cell_type": "code",
   "execution_count": 1,
   "id": "eca6fceb",
   "metadata": {},
   "outputs": [],
   "source": [
    "import pandas as pd\n",
    "import numpy as np\n",
    "import matplotlib.pyplot as plt\n",
    "from sklearn import metrics"
   ]
  },
  {
   "cell_type": "code",
   "execution_count": 2,
   "id": "6a3d154e",
   "metadata": {},
   "outputs": [],
   "source": [
    "df = pd.read_excel(\"cnn.xlsx\")"
   ]
  },
  {
   "cell_type": "code",
   "execution_count": 3,
   "id": "5fdc701a",
   "metadata": {},
   "outputs": [
    {
     "data": {
      "text/plain": [
       "Index([       1,        2,        3,        4,        5,        6,        7,\n",
       "              8,        9,       10,       11,       12,       13,       14,\n",
       "             15,       16,       17,       18,       19,       20,       21,\n",
       "             22,       23,       24,       25,       26,       27,       28,\n",
       "             29,       30,       31,       32,       33,       34,       35,\n",
       "             36,       37,       38,       39,       40,       41,       42,\n",
       "             43,       44,       45,       46,       47,       48,       49,\n",
       "             50, 'target'],\n",
       "      dtype='object')"
      ]
     },
     "execution_count": 3,
     "metadata": {},
     "output_type": "execute_result"
    }
   ],
   "source": [
    "col_names = df.columns\n",
    "\n",
    "col_names"
   ]
  },
  {
   "cell_type": "code",
   "execution_count": 4,
   "id": "d3d502ad",
   "metadata": {},
   "outputs": [],
   "source": [
    "X = df.drop(['target'], axis=1)\n",
    "\n",
    "y = df['target']"
   ]
  },
  {
   "cell_type": "code",
   "execution_count": 5,
   "id": "bfc11646",
   "metadata": {},
   "outputs": [],
   "source": [
    "from sklearn.model_selection import train_test_split\n",
    "\n",
    "X_train, X_test, y_train, y_test = train_test_split(X, y, test_size = 0.3, random_state = 0)"
   ]
  },
  {
   "cell_type": "code",
   "execution_count": 6,
   "id": "fb5624bd",
   "metadata": {},
   "outputs": [
    {
     "data": {
      "text/plain": [
       "((438, 50), (189, 50))"
      ]
     },
     "execution_count": 6,
     "metadata": {},
     "output_type": "execute_result"
    }
   ],
   "source": [
    "X_train.shape, X_test.shape"
   ]
  },
  {
   "cell_type": "code",
   "execution_count": 7,
   "id": "276cd54f",
   "metadata": {},
   "outputs": [],
   "source": [
    "cols = X_train.columns"
   ]
  },
  {
   "cell_type": "code",
   "execution_count": 8,
   "id": "7c220061",
   "metadata": {},
   "outputs": [],
   "source": [
    "from sklearn.preprocessing import StandardScaler\n",
    "\n",
    "scaler = StandardScaler()\n",
    "\n",
    "X_train = scaler.fit_transform(X_train)\n",
    "\n",
    "X_test = scaler.transform(X_test)"
   ]
  },
  {
   "cell_type": "code",
   "execution_count": 9,
   "id": "4e704301",
   "metadata": {},
   "outputs": [],
   "source": [
    "X_train = pd.DataFrame(X_train, columns=[cols])"
   ]
  },
  {
   "cell_type": "code",
   "execution_count": 10,
   "id": "79b59941",
   "metadata": {},
   "outputs": [],
   "source": [
    "X_test = pd.DataFrame(X_test, columns=[cols])"
   ]
  },
  {
   "cell_type": "code",
   "execution_count": 11,
   "id": "46def344",
   "metadata": {},
   "outputs": [],
   "source": [
    "from sklearn.metrics import confusion_matrix, accuracy_score, classification_report\n",
    "\n",
    "def evaluate(model, X_train, X_test, y_train, y_test):\n",
    "    \n",
    "    y_test_pred = model.predict(X_test)\n",
    "    y_train_pred = model.predict(X_train)\n",
    "\n",
    "    print(\"Training:\\n\")\n",
    "    clf_report = pd.DataFrame(classification_report(y_train, y_train_pred, output_dict=True))\n",
    "    print(f\"Accuracy:\\n{accuracy_score(y_train, y_train_pred):.4f}\")\n",
    "\n",
    "    print(\"Testing:\\n\")\n",
    "    clf_report = pd.DataFrame(classification_report(y_test, y_test_pred, output_dict=True))\n",
    "    print(f\"Accuracy:\\n{accuracy_score(y_test, y_test_pred):.4f}\")"
   ]
  },
  {
   "cell_type": "code",
   "execution_count": 12,
   "id": "019ca50a",
   "metadata": {},
   "outputs": [
    {
     "name": "stdout",
     "output_type": "stream",
     "text": [
      "Training:\n",
      "\n",
      "Accuracy:\n",
      "1.0000\n",
      "Testing:\n",
      "\n",
      "Accuracy:\n",
      "0.8995\n"
     ]
    }
   ],
   "source": [
    "from sklearn.ensemble import GradientBoostingClassifier\n",
    "\n",
    "grad_boost_clf = GradientBoostingClassifier(n_estimators=1500, random_state=42)\n",
    "grad_boost_clf.fit(X_train, y_train)\n",
    "evaluate(grad_boost_clf, X_train, X_test, y_train, y_test)"
   ]
  },
  {
   "cell_type": "code",
   "execution_count": 13,
   "id": "cdbe50c9",
   "metadata": {},
   "outputs": [],
   "source": [
    "y_pred = grad_boost_clf.predict(X_test)"
   ]
  },
  {
   "cell_type": "code",
   "execution_count": 14,
   "id": "2bad75a1",
   "metadata": {},
   "outputs": [
    {
     "name": "stdout",
     "output_type": "stream",
     "text": [
      "Training set score: 1.0000\n",
      "Test set score: 0.8995\n"
     ]
    }
   ],
   "source": [
    "print('Training set score: {:.4f}'.format(grad_boost_clf.score(X_train, y_train)))\n",
    "\n",
    "print('Test set score: {:.4f}'.format(grad_boost_clf.score(X_test, y_test)))"
   ]
  },
  {
   "cell_type": "code",
   "execution_count": 15,
   "id": "820424fd",
   "metadata": {},
   "outputs": [
    {
     "name": "stdout",
     "output_type": "stream",
     "text": [
      "Confusion matrix\n",
      "\n",
      " [[85  8]\n",
      " [11 85]]\n",
      "\n",
      "True Positives(TP) =  85\n",
      "\n",
      "True Negatives(TN) =  85\n",
      "\n",
      "False Positives(FP) =  8\n",
      "\n",
      "False Negatives(FN) =  11\n"
     ]
    }
   ],
   "source": [
    "from sklearn.metrics import confusion_matrix\n",
    "\n",
    "cm = confusion_matrix(y_test, y_pred)\n",
    "\n",
    "print('Confusion matrix\\n\\n', cm)\n",
    "\n",
    "print('\\nTrue Positives(TP) = ', cm[0,0])\n",
    "\n",
    "print('\\nTrue Negatives(TN) = ', cm[1,1])\n",
    "\n",
    "print('\\nFalse Positives(FP) = ', cm[0,1])\n",
    "\n",
    "print('\\nFalse Negatives(FN) = ', cm[1,0])"
   ]
  },
  {
   "cell_type": "code",
   "execution_count": 16,
   "id": "8d1edef6",
   "metadata": {},
   "outputs": [
    {
     "name": "stdout",
     "output_type": "stream",
     "text": [
      "              precision    recall  f1-score   support\n",
      "\n",
      "           0       0.89      0.91      0.90        93\n",
      "           1       0.91      0.89      0.90        96\n",
      "\n",
      "    accuracy                           0.90       189\n",
      "   macro avg       0.90      0.90      0.90       189\n",
      "weighted avg       0.90      0.90      0.90       189\n",
      "\n"
     ]
    }
   ],
   "source": [
    "from sklearn.metrics import classification_report\n",
    "\n",
    "print(classification_report(y_test, y_pred))"
   ]
  },
  {
   "cell_type": "markdown",
   "id": "bd5115b6",
   "metadata": {},
   "source": [
    "## With Fusion"
   ]
  },
  {
   "cell_type": "code",
   "execution_count": 17,
   "id": "1facd4d0",
   "metadata": {},
   "outputs": [],
   "source": [
    "df = pd.read_excel(\"cnn_abcd.xlsx\",sheet_name=2)"
   ]
  },
  {
   "cell_type": "code",
   "execution_count": 18,
   "id": "48554f6e",
   "metadata": {},
   "outputs": [
    {
     "data": {
      "text/plain": [
       "Index([       1,        2,        3,        4,        5,        6,        7,\n",
       "              8,        9,       10,       11,       12,       13,       14,\n",
       "             15,       16,       17,       18,       19,       20,       21,\n",
       "             22,       23,       24,       25,       26,       27,       28,\n",
       "             29,       30,       31,       32,       33,       34,       35,\n",
       "             36,       37,       38,       39,       40,       41,       42,\n",
       "             43,       44,       45,       46,       47,       48,       49,\n",
       "             50,       51,       52,       53,       54, 'target'],\n",
       "      dtype='object')"
      ]
     },
     "execution_count": 18,
     "metadata": {},
     "output_type": "execute_result"
    }
   ],
   "source": [
    "col_names = df.columns\n",
    "\n",
    "col_names"
   ]
  },
  {
   "cell_type": "code",
   "execution_count": 19,
   "id": "ea6cff85",
   "metadata": {},
   "outputs": [],
   "source": [
    "X = df.drop(['target'], axis=1)\n",
    "\n",
    "y = df['target']"
   ]
  },
  {
   "cell_type": "code",
   "execution_count": 20,
   "id": "b6e54bd2",
   "metadata": {},
   "outputs": [],
   "source": [
    "from sklearn.model_selection import train_test_split\n",
    "\n",
    "X_train, X_test, y_train, y_test = train_test_split(X, y, test_size = 0.3, random_state = 0)"
   ]
  },
  {
   "cell_type": "code",
   "execution_count": 21,
   "id": "acc7a145",
   "metadata": {},
   "outputs": [
    {
     "data": {
      "text/plain": [
       "((432, 54), (186, 54))"
      ]
     },
     "execution_count": 21,
     "metadata": {},
     "output_type": "execute_result"
    }
   ],
   "source": [
    "X_train.shape, X_test.shape"
   ]
  },
  {
   "cell_type": "code",
   "execution_count": 22,
   "id": "ff96a188",
   "metadata": {},
   "outputs": [],
   "source": [
    "cols = X_train.columns"
   ]
  },
  {
   "cell_type": "code",
   "execution_count": 23,
   "id": "1cbc5514",
   "metadata": {},
   "outputs": [],
   "source": [
    "from sklearn.preprocessing import StandardScaler\n",
    "\n",
    "scaler = StandardScaler()\n",
    "\n",
    "X_train = scaler.fit_transform(X_train)\n",
    "\n",
    "X_test = scaler.transform(X_test)"
   ]
  },
  {
   "cell_type": "code",
   "execution_count": 24,
   "id": "2efb3162",
   "metadata": {},
   "outputs": [
    {
     "name": "stdout",
     "output_type": "stream",
     "text": [
      "Training:\n",
      "\n",
      "Accuracy:\n",
      "1.0000\n",
      "Testing:\n",
      "\n",
      "Accuracy:\n",
      "0.8978\n"
     ]
    }
   ],
   "source": [
    "from sklearn.ensemble import GradientBoostingClassifier\n",
    "\n",
    "grad_boost_clf = GradientBoostingClassifier(n_estimators=1500, random_state=42)\n",
    "grad_boost_clf.fit(X_train, y_train)\n",
    "evaluate(grad_boost_clf, X_train, X_test, y_train, y_test)"
   ]
  },
  {
   "cell_type": "code",
   "execution_count": 25,
   "id": "a8ae8228",
   "metadata": {},
   "outputs": [],
   "source": [
    "y_pred = grad_boost_clf.predict(X_test)"
   ]
  },
  {
   "cell_type": "code",
   "execution_count": 29,
   "id": "82c6cad0",
   "metadata": {},
   "outputs": [
    {
     "data": {
      "image/png": "[encoded data removed]",
      "text/plain": [
       "<Figure size 640x480 with 1 Axes>"
      ]
     },
     "metadata": {},
     "output_type": "display_data"
    }
   ],
   "source": [
    "from sklearn import datasets, metrics, model_selection\n",
    "import matplotlib\n",
    "matplotlib.rcParams.update(matplotlib.rcParamsDefault)\n",
    "\n",
    "y_pred_proba = grad_boost_clf.predict_proba(X_test)[::,1]\n",
    "fpr, tpr, _ = metrics.roc_curve(y_test,  y_pred_proba)\n",
    "auc = metrics.roc_auc_score(y_test, y_pred_proba)\n",
    "\n",
    "plt.rcParams['axes.facecolor'] = 'white' \n",
    "\n",
    "plt.plot(fpr,tpr,label=\"AUC=\"+str(auc))\n",
    "plt.ylabel('True Positive Rate')\n",
    "plt.xlabel('False Positive Rate')\n",
    "plt.legend(loc=4)\n",
    "plt.show()"
   ]
  },
  {
   "cell_type": "code",
   "execution_count": 31,
   "id": "61ad5e3d",
   "metadata": {},
   "outputs": [
    {
     "data": {
      "text/plain": [
       "0.9514653075408317"
      ]
     },
     "execution_count": 31,
     "metadata": {},
     "output_type": "execute_result"
    }
   ],
   "source": [
    "auc = metrics.roc_auc_score(y_test, y_pred_proba)\n",
    "auc"
   ]
  },
  {
   "cell_type": "code",
   "execution_count": null,
   "id": "3bbe3651-b1c3-4882-aca7-843e6f0f2f0b",
   "metadata": {},
   "outputs": [],
   "source": []
  }
 ],
 "metadata": {
  "kernelspec": {
   "display_name": "Python 3 (ipykernel)",
   "language": "python",
   "name": "python3"
  },
  "language_info": {
   "codemirror_mode": {
    "name": "ipython",
    "version": 3
   },
   "file_extension": ".py",
   "mimetype": "text/x-python",
   "name": "python",
   "nbconvert_exporter": "python",
   "pygments_lexer": "ipython3",
   "version": "3.11.4"
  }
 },
 "nbformat": 4,
 "nbformat_minor": 5
}
